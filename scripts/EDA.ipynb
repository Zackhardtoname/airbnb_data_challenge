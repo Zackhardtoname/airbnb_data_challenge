{
 "cells": [
  {
   "cell_type": "code",
   "execution_count": 345,
   "outputs": [],
   "source": [
    "from data import data_keys\n",
    "\n",
    "import pprint\n",
    "import numpy as np\n",
    "import pandas as pd\n",
    "import seaborn as sns\n",
    "import pickle\n",
    "import operator\n",
    "import helpers\n",
    "from functools import reduce\n",
    "from ast import literal_eval\n",
    "import plotly.express as px\n",
    "\n",
    "import plotly.graph_objects as go\n",
    "from geopy import geocoders\n",
    "\n",
    "from IPython.display import display\n",
    "%matplotlib inline\n",
    "import matplotlib.pyplot as plt"
   ],
   "metadata": {
    "collapsed": false,
    "pycharm": {
     "name": "#%%\n",
     "is_executing": false
    }
   }
  },
  {
   "cell_type": "code",
   "execution_count": 346,
   "outputs": [],
   "source": [
    "# runtime parameters\n",
    "\n",
    "save_imgs = False"
   ],
   "metadata": {
    "collapsed": false,
    "pycharm": {
     "name": "#%%\n",
     "is_executing": false
    }
   }
  },
  {
   "cell_type": "markdown",
   "source": [
    "# Introduction\n",
    "\n",
    "In this notebook, I explore the airbnb dataset for its listings in Amsterdam, The Netherlands. \n",
    "I chose this challenge because of its relatively large dataset with about 100 columns of numerical, categorical, geological, image and text data.\n",
    "(Dataset originally from: http://insideairbnb.com/get-the-data.html) Since the dataset has no data keys, so I would try my best to explain them. \n",
    " \n",
    "For this challenge, we would try to predict are prices based on other variables."
   ],
   "metadata": {
    "collapsed": false
   }
  },
  {
   "cell_type": "markdown",
   "source": [
    "# Hypothesis\n",
    "\n",
    "Our hypothesis is that we could achieve a R-squared value of around .6 through the most useful 20 features or so.\n",
    "Some variables that would probably be of most use \n",
    "are all of the \"primary_num_cols\" in data keys, \"instant_bookable\", \"host_has_profile_pic\", \"host_identity_verified\", \n",
    "\"neighbourhood_cleansed\", \"cancellation_policy\", \"description\", \"neighborhood_overview\", \"transit\", \"house_rules\", \n",
    "pictures of the listings as well as host profile pictures, and in fact, the past availability (although we could not use this one since we mostly only have aggregated availability statistics).\n"
   ],
   "metadata": {
    "collapsed": false
   }
  },
  {
   "cell_type": "markdown",
   "source": [
    "# Exploratory Data Analysis\n",
    "First we load the dataset and classify the columns into different types and access their useability."
   ],
   "metadata": {
    "collapsed": false
   }
  },
  {
   "cell_type": "code",
   "execution_count": 347,
   "outputs": [
    {
     "name": "stdout",
     "text": [
      "Shape:  (20677, 106)\n"
     ],
     "output_type": "stream"
    },
    {
     "data": {
      "text/plain": "                 id     scrape_id  thumbnail_url  medium_url  xl_picture_url  \\\ncount  2.067700e+04  2.067700e+04            0.0         0.0             0.0   \nmean   1.791013e+07  2.019081e+13            NaN         NaN             NaN   \nstd    1.041987e+07  7.800970e+00            NaN         NaN             NaN   \nmin    2.818000e+03  2.019081e+13            NaN         NaN             NaN   \n25%    9.340207e+06  2.019081e+13            NaN         NaN             NaN   \n50%    1.774427e+07  2.019081e+13            NaN         NaN             NaN   \n75%    2.601974e+07  2.019081e+13            NaN         NaN             NaN   \nmax    3.759099e+07  2.019081e+13            NaN         NaN             NaN   \n\n            host_id  host_acceptance_rate  host_listings_count  \\\ncount  2.067700e+04                   0.0         20665.000000   \nmean   5.666981e+07                   NaN             7.010888   \nstd    6.812902e+07                   NaN            37.729548   \nmin    3.159000e+03                   NaN             0.000000   \n25%    8.795077e+06                   NaN             1.000000   \n50%    2.618942e+07                   NaN             1.000000   \n75%    7.754037e+07                   NaN             2.000000   \nmax    2.839422e+08                   NaN           980.000000   \n\n       host_total_listings_count  neighbourhood_group_cleansed  ...  \\\ncount               20665.000000                           0.0  ...   \nmean                    7.010888                           NaN  ...   \nstd                    37.729548                           NaN  ...   \nmin                     0.000000                           NaN  ...   \n25%                     1.000000                           NaN  ...   \n50%                     1.000000                           NaN  ...   \n75%                     2.000000                           NaN  ...   \nmax                   980.000000                           NaN  ...   \n\n       review_scores_cleanliness  review_scores_checkin  \\\ncount               17852.000000           17840.000000   \nmean                    9.469079               9.735762   \nstd                     0.867372               0.654358   \nmin                     2.000000               2.000000   \n25%                     9.000000              10.000000   \n50%                    10.000000              10.000000   \n75%                    10.000000              10.000000   \nmax                    10.000000              10.000000   \n\n       review_scores_communication  review_scores_location  \\\ncount                 17847.000000            17842.000000   \nmean                      9.789488                9.476124   \nstd                       0.610074                0.707655   \nmin                       2.000000                2.000000   \n25%                      10.000000                9.000000   \n50%                      10.000000               10.000000   \n75%                      10.000000               10.000000   \nmax                      10.000000               10.000000   \n\n       review_scores_value  calculated_host_listings_count  \\\ncount         17842.000000                    20677.000000   \nmean              9.177054                        4.925134   \nstd               0.808275                       22.883678   \nmin               2.000000                        1.000000   \n25%               9.000000                        1.000000   \n50%               9.000000                        1.000000   \n75%              10.000000                        1.000000   \nmax              10.000000                      208.000000   \n\n       calculated_host_listings_count_entire_homes  \\\ncount                                 20677.000000   \nmean                                      4.492431   \nstd                                      22.710906   \nmin                                       0.000000   \n25%                                       1.000000   \n50%                                       1.000000   \n75%                                       1.000000   \nmax                                     206.000000   \n\n       calculated_host_listings_count_private_rooms  \\\ncount                                  20677.000000   \nmean                                       0.410988   \nstd                                        1.082794   \nmin                                        0.000000   \n25%                                        0.000000   \n50%                                        0.000000   \n75%                                        1.000000   \nmax                                       15.000000   \n\n       calculated_host_listings_count_shared_rooms  reviews_per_month  \ncount                                 20677.000000       18084.000000  \nmean                                      0.021715           0.987736  \nstd                                       0.237805           1.349155  \nmin                                       0.000000           0.010000  \n25%                                       0.000000           0.240000  \n50%                                       0.000000           0.540000  \n75%                                       0.000000           1.070000  \nmax                                       8.000000          33.670000  \n\n[8 rows x 44 columns]",
      "text/html": "<div>\n<style scoped>\n    .dataframe tbody tr th:only-of-type {\n        vertical-align: middle;\n    }\n\n    .dataframe tbody tr th {\n        vertical-align: top;\n    }\n\n    .dataframe thead th {\n        text-align: right;\n    }\n</style>\n<table border=\"1\" class=\"dataframe\">\n  <thead>\n    <tr style=\"text-align: right;\">\n      <th></th>\n      <th>id</th>\n      <th>scrape_id</th>\n      <th>thumbnail_url</th>\n      <th>medium_url</th>\n      <th>xl_picture_url</th>\n      <th>host_id</th>\n      <th>host_acceptance_rate</th>\n      <th>host_listings_count</th>\n      <th>host_total_listings_count</th>\n      <th>neighbourhood_group_cleansed</th>\n      <th>...</th>\n      <th>review_scores_cleanliness</th>\n      <th>review_scores_checkin</th>\n      <th>review_scores_communication</th>\n      <th>review_scores_location</th>\n      <th>review_scores_value</th>\n      <th>calculated_host_listings_count</th>\n      <th>calculated_host_listings_count_entire_homes</th>\n      <th>calculated_host_listings_count_private_rooms</th>\n      <th>calculated_host_listings_count_shared_rooms</th>\n      <th>reviews_per_month</th>\n    </tr>\n  </thead>\n  <tbody>\n    <tr>\n      <th>count</th>\n      <td>2.067700e+04</td>\n      <td>2.067700e+04</td>\n      <td>0.0</td>\n      <td>0.0</td>\n      <td>0.0</td>\n      <td>2.067700e+04</td>\n      <td>0.0</td>\n      <td>20665.000000</td>\n      <td>20665.000000</td>\n      <td>0.0</td>\n      <td>...</td>\n      <td>17852.000000</td>\n      <td>17840.000000</td>\n      <td>17847.000000</td>\n      <td>17842.000000</td>\n      <td>17842.000000</td>\n      <td>20677.000000</td>\n      <td>20677.000000</td>\n      <td>20677.000000</td>\n      <td>20677.000000</td>\n      <td>18084.000000</td>\n    </tr>\n    <tr>\n      <th>mean</th>\n      <td>1.791013e+07</td>\n      <td>2.019081e+13</td>\n      <td>NaN</td>\n      <td>NaN</td>\n      <td>NaN</td>\n      <td>5.666981e+07</td>\n      <td>NaN</td>\n      <td>7.010888</td>\n      <td>7.010888</td>\n      <td>NaN</td>\n      <td>...</td>\n      <td>9.469079</td>\n      <td>9.735762</td>\n      <td>9.789488</td>\n      <td>9.476124</td>\n      <td>9.177054</td>\n      <td>4.925134</td>\n      <td>4.492431</td>\n      <td>0.410988</td>\n      <td>0.021715</td>\n      <td>0.987736</td>\n    </tr>\n    <tr>\n      <th>std</th>\n      <td>1.041987e+07</td>\n      <td>7.800970e+00</td>\n      <td>NaN</td>\n      <td>NaN</td>\n      <td>NaN</td>\n      <td>6.812902e+07</td>\n      <td>NaN</td>\n      <td>37.729548</td>\n      <td>37.729548</td>\n      <td>NaN</td>\n      <td>...</td>\n      <td>0.867372</td>\n      <td>0.654358</td>\n      <td>0.610074</td>\n      <td>0.707655</td>\n      <td>0.808275</td>\n      <td>22.883678</td>\n      <td>22.710906</td>\n      <td>1.082794</td>\n      <td>0.237805</td>\n      <td>1.349155</td>\n    </tr>\n    <tr>\n      <th>min</th>\n      <td>2.818000e+03</td>\n      <td>2.019081e+13</td>\n      <td>NaN</td>\n      <td>NaN</td>\n      <td>NaN</td>\n      <td>3.159000e+03</td>\n      <td>NaN</td>\n      <td>0.000000</td>\n      <td>0.000000</td>\n      <td>NaN</td>\n      <td>...</td>\n      <td>2.000000</td>\n      <td>2.000000</td>\n      <td>2.000000</td>\n      <td>2.000000</td>\n      <td>2.000000</td>\n      <td>1.000000</td>\n      <td>0.000000</td>\n      <td>0.000000</td>\n      <td>0.000000</td>\n      <td>0.010000</td>\n    </tr>\n    <tr>\n      <th>25%</th>\n      <td>9.340207e+06</td>\n      <td>2.019081e+13</td>\n      <td>NaN</td>\n      <td>NaN</td>\n      <td>NaN</td>\n      <td>8.795077e+06</td>\n      <td>NaN</td>\n      <td>1.000000</td>\n      <td>1.000000</td>\n      <td>NaN</td>\n      <td>...</td>\n      <td>9.000000</td>\n      <td>10.000000</td>\n      <td>10.000000</td>\n      <td>9.000000</td>\n      <td>9.000000</td>\n      <td>1.000000</td>\n      <td>1.000000</td>\n      <td>0.000000</td>\n      <td>0.000000</td>\n      <td>0.240000</td>\n    </tr>\n    <tr>\n      <th>50%</th>\n      <td>1.774427e+07</td>\n      <td>2.019081e+13</td>\n      <td>NaN</td>\n      <td>NaN</td>\n      <td>NaN</td>\n      <td>2.618942e+07</td>\n      <td>NaN</td>\n      <td>1.000000</td>\n      <td>1.000000</td>\n      <td>NaN</td>\n      <td>...</td>\n      <td>10.000000</td>\n      <td>10.000000</td>\n      <td>10.000000</td>\n      <td>10.000000</td>\n      <td>9.000000</td>\n      <td>1.000000</td>\n      <td>1.000000</td>\n      <td>0.000000</td>\n      <td>0.000000</td>\n      <td>0.540000</td>\n    </tr>\n    <tr>\n      <th>75%</th>\n      <td>2.601974e+07</td>\n      <td>2.019081e+13</td>\n      <td>NaN</td>\n      <td>NaN</td>\n      <td>NaN</td>\n      <td>7.754037e+07</td>\n      <td>NaN</td>\n      <td>2.000000</td>\n      <td>2.000000</td>\n      <td>NaN</td>\n      <td>...</td>\n      <td>10.000000</td>\n      <td>10.000000</td>\n      <td>10.000000</td>\n      <td>10.000000</td>\n      <td>10.000000</td>\n      <td>1.000000</td>\n      <td>1.000000</td>\n      <td>1.000000</td>\n      <td>0.000000</td>\n      <td>1.070000</td>\n    </tr>\n    <tr>\n      <th>max</th>\n      <td>3.759099e+07</td>\n      <td>2.019081e+13</td>\n      <td>NaN</td>\n      <td>NaN</td>\n      <td>NaN</td>\n      <td>2.839422e+08</td>\n      <td>NaN</td>\n      <td>980.000000</td>\n      <td>980.000000</td>\n      <td>NaN</td>\n      <td>...</td>\n      <td>10.000000</td>\n      <td>10.000000</td>\n      <td>10.000000</td>\n      <td>10.000000</td>\n      <td>10.000000</td>\n      <td>208.000000</td>\n      <td>206.000000</td>\n      <td>15.000000</td>\n      <td>8.000000</td>\n      <td>33.670000</td>\n    </tr>\n  </tbody>\n</table>\n<p>8 rows × 44 columns</p>\n</div>"
     },
     "metadata": {},
     "output_type": "execute_result",
     "execution_count": 347
    }
   ],
   "source": [
    "df = pd.read_csv(\"../data/listings.csv\", converters={\"host_verifications\": literal_eval})\n",
    "print(\"Shape: \", df.shape)\n",
    "df.describe()"
   ],
   "metadata": {
    "collapsed": false,
    "pycharm": {
     "name": "#%%\n",
     "is_executing": false
    }
   }
  },
  {
   "cell_type": "markdown",
   "source": [
    "The end result is [our own data keys](../data/data_keys.py). Most classification is a process of examination \n",
    "the type of data, unique values, and readiness of feeding into machine learning training models (level of tidiness).\n",
    " "
   ],
   "metadata": {
    "collapsed": false
   }
  },
  {
   "cell_type": "markdown",
   "source": [
    "## Data cleaning"
   ],
   "metadata": {
    "collapsed": false
   }
  },
  {
   "cell_type": "markdown",
   "source": [
    "For now we include the dependent variable in our dataset to clean it along with other currency-based variables. "
   ],
   "metadata": {
    "collapsed": false
   }
  },
  {
   "cell_type": "code",
   "execution_count": 348,
   "outputs": [],
   "source": [
    "num_attribs = data_keys.primary_num_cols + [\"price\"]\n",
    "cat_attribs = data_keys.binary_cols + data_keys.cat_cols"
   ],
   "metadata": {
    "collapsed": false,
    "pycharm": {
     "name": "#%%\n",
     "is_executing": false
    }
   }
  },
  {
   "cell_type": "markdown",
   "source": [
    "We examine the percentage of missing data for each variable."
   ],
   "metadata": {
    "collapsed": false
   }
  },
  {
   "cell_type": "code",
   "execution_count": 349,
   "outputs": [
    {
     "name": "stdout",
     "text": [
      "[('nan percentage for square_feet', 0.9813319146878173),\n",
      " ('nan percentage for host_response_rate', 0.4130676597185278),\n",
      " ('nan percentage for host_response_time', 0.4130676597185278),\n",
      " ('nan percentage for security_deposit', 0.29994680079315184),\n",
      " ('nan percentage for host_neighbourhood', 0.28713062823426994),\n",
      " ('nan percentage for cleaning_fee', 0.17995840789282777),\n",
      " ('nan percentage for review_scores_checkin', 0.1372055907530106),\n",
      " ('nan percentage for review_scores_location', 0.13710886492237753),\n",
      " ('nan percentage for review_scores_value', 0.13710886492237753),\n",
      " ('nan percentage for review_scores_communication', 0.13686705034579486),\n",
      " ('nan percentage for review_scores_accuracy', 0.13672196159984523),\n",
      " ('nan percentage for review_scores_cleanliness', 0.13662523576921218),\n",
      " ('nan percentage for review_scores_rating', 0.13618996953136336),\n",
      " ('nan percentage for zipcode', 0.04284954297045026),\n",
      " ('nan percentage for state', 0.010591478454321226),\n",
      " ('nan percentage for market', 0.0019345166126614112),\n",
      " ('nan percentage for host_is_superhost', 0.0005803549837984234),\n",
      " ('nan percentage for host_has_profile_pic', 0.0005803549837984234),\n",
      " ('nan percentage for host_identity_verified', 0.0005803549837984234),\n",
      " ('nan percentage for host_verifications', 0.0005803549837984234),\n",
      " ('nan percentage for bedrooms', 0.00038690332253228226),\n",
      " ('nan percentage for beds', 0.00038690332253228226),\n",
      " ('nan percentage for bathrooms', 0.0002901774918992117),\n",
      " ('nan percentage for city', 0.00019345166126614113),\n",
      " ('nan percentage for cancellation_policy', 4.836291531653528e-05)]\n"
     ],
     "output_type": "stream"
    }
   ],
   "source": [
    "nan_ptc_dict = {}\n",
    "for price_col in list(df[num_attribs + cat_attribs]):\n",
    "    count_nan = len(df[price_col]) - df[price_col].count()\n",
    "    if (count_nan):\n",
    "        nan_ptc_dict[f\"nan percentage for {price_col}\"] = count_nan / len(df)\n",
    "\n",
    "sorted_d = sorted(nan_ptc_dict.items(), key=operator.itemgetter(1), reverse=True)\n",
    "pprint.pprint(sorted_d)"
   ],
   "metadata": {
    "collapsed": false,
    "pycharm": {
     "name": "#%%\n",
     "is_executing": false
    }
   }
  },
  {
   "cell_type": "markdown",
   "source": [
    "Most variables are relatively complete. \n",
    "Some other variables such as host response rate has a high level of incompleteness (about 40%), \n",
    "so we would impute these variables for missing records.\n",
    "Since the square_feet variable is missing for over 98% of the data, it barely provides any useful information and renders imputation itself worthless. We would drop it."
   ],
   "metadata": {
    "collapsed": false
   }
  },
  {
   "cell_type": "code",
   "execution_count": 350,
   "outputs": [],
   "source": [
    "df, num_attribs = helpers.drop_attribs(df, num_attribs, ['square_feet'])"
   ],
   "metadata": {
    "collapsed": false,
    "pycharm": {
     "name": "#%%\n",
     "is_executing": false
    }
   }
  },
  {
   "cell_type": "markdown",
   "source": [
    "## Numerical Variable\n",
    "Then, we properly convert string-based variables to pure numbers."
   ],
   "metadata": {
    "collapsed": false
   }
  },
  {
   "cell_type": "code",
   "execution_count": 351,
   "outputs": [],
   "source": [
    "df[\"host_response_rate\"] = df[\"host_response_rate\"].apply(lambda x: helpers.percent_to_float(x))\n",
    "\n",
    "for col in [\"price\", \"security_deposit\", \"cleaning_fee\", \"extra_people\"]:\n",
    "    df[col] = df[col].apply(lambda x: helpers.convert_string_to_dollar(str(x)))\n",
    "\n",
    "# Clearly some variables naturally should be positive (non-zero)\n",
    "df = df[(df[\"price\"] > 0) &\n",
    "        (df[\"accommodates\"] > 0)]"
   ],
   "metadata": {
    "collapsed": false,
    "pycharm": {
     "name": "#%%\n",
     "is_executing": false
    }
   }
  },
  {
   "cell_type": "markdown",
   "source": [
    "### Visualizations"
   ],
   "metadata": {
    "collapsed": false
   }
  },
  {
   "cell_type": "code",
   "execution_count": 391,
   "outputs": [],
   "source": [
    "# construct a dunny variable for display since plotly doesn't support onclick events well\n",
    "df[\"name_and_listing_url\"] = df[['name', 'listing_url']].astype(str).apply('\\n'.join, axis=1)\n",
    "\n",
    "# an example token plotly has generously provided\n",
    "px.set_mapbox_access_token('pk.eyJ1IjoiZXRwaW5hcmQiLCJhIjoiY2luMHIzdHE0MGFxNXVubTRxczZ2YmUxaCJ9.hwWZful0U2CQxit4ItNsiQ')\n",
    "# df = px.data.carshare()\n",
    "fig = px.scatter_mapbox(df, lat=\"latitude\", lon=\"longitude\", color=\"price\", size=\"price\", hover_name=\"name_and_listing_url\",\n",
    "                  color_continuous_scale=px.colors.cyclical.IceFire, size_max=15, zoom=13, title=\"Airbnb Netherlands Listings\") \n",
    "fig.show()"
   ],
   "metadata": {
    "collapsed": false,
    "pycharm": {
     "name": "#%%\n",
     "is_executing": false
    }
   }
  },
  {
   "cell_type": "markdown",
   "source": [
    "We can see that the majority of the listings are below 200 dollars, and the expensive listings are almost all in the central area in Amsterdam."
   ],
   "metadata": {
    "collapsed": false,
    "pycharm": {
     "name": "#%% md\n",
     "is_executing": false
    }
   }
  },
  {
   "cell_type": "markdown",
   "source": [
    "Due to the large number of variables, I chose to save the extremely large pairplot as a separate file [here](../imgs/pairplot.png).\n",
    "Note: if you want to save the image, please uncomment the line below or the value of the save_imgs at the beginning"
   ],
   "metadata": {
    "collapsed": false
   }
  },
  {
   "cell_type": "code",
   "execution_count": 310,
   "outputs": [],
   "source": [
    "# uncomment below to save images\n",
    "# save_imgs = True\n",
    "\n",
    "if save_imgs:\n",
    "    sns.pairplot(df[num_attribs]).savefig(\"../imgs/pairplot.png\")\n",
    "    plt.close() # too many variables for inline plots"
   ],
   "metadata": {
    "collapsed": false,
    "pycharm": {
     "name": "#%%\n",
     "is_executing": false
    }
   }
  },
  {
   "cell_type": "markdown",
   "source": [
    "### Feature Transformation\n",
    "\n",
    "By examining the pairplot, we can see that many variables are right skewed. \n",
    "\n",
    "Let's try log transformation"
   ],
   "metadata": {
    "collapsed": false
   }
  },
  {
   "cell_type": "code",
   "execution_count": 311,
   "outputs": [],
   "source": [
    "to_log_transform = [\"price\", \"security_deposit\", \"cleaning_fee\", \"extra_people\",\n",
    "            \"bathrooms\", \"bedrooms\", \"beds\", \"guests_included\",\n",
    "            \"number_of_reviews\"]\n",
    "new_col_names = []\n",
    "\n",
    "for col in to_log_transform:\n",
    "    new_col_name = f\"log_{col}\"\n",
    "    new_col_names.append(new_col_name)\n",
    "    df[new_col_name] = np.log(df[col] + 1)\n",
    "    num_attribs.append(new_col_name)\n",
    "\n",
    "df, num_attribs = helpers.drop_attribs(df, num_attribs, to_log_transform)"
   ],
   "metadata": {
    "collapsed": false,
    "pycharm": {
     "name": "#%%\n",
     "is_executing": false
    }
   }
  },
  {
   "cell_type": "code",
   "execution_count": 312,
   "outputs": [
    {
     "data": {
      "text/plain": "array([[<matplotlib.axes._subplots.AxesSubplot object at 0x00000277229A0860>,\n        <matplotlib.axes._subplots.AxesSubplot object at 0x000002771DE782E8>,\n        <matplotlib.axes._subplots.AxesSubplot object at 0x0000027723E58EF0>],\n       [<matplotlib.axes._subplots.AxesSubplot object at 0x000002772257B748>,\n        <matplotlib.axes._subplots.AxesSubplot object at 0x0000027722D03E48>,\n        <matplotlib.axes._subplots.AxesSubplot object at 0x0000027723229390>],\n       [<matplotlib.axes._subplots.AxesSubplot object at 0x000002772492F780>,\n        <matplotlib.axes._subplots.AxesSubplot object at 0x0000027724891A58>,\n        <matplotlib.axes._subplots.AxesSubplot object at 0x0000027724891860>]],\n      dtype=object)"
     },
     "metadata": {},
     "output_type": "execute_result",
     "execution_count": 312
    },
    {
     "data": {
      "text/plain": "<Figure size 1440x1080 with 9 Axes>",
      "image/png": "[encoded data removed]"
     },
     "metadata": {},
     "output_type": "display_data"
    }
   ],
   "source": [
    "## check the transformed variables\n",
    "\n",
    "df[new_col_names].hist(bins=50, figsize=(20,15))\n"
   ],
   "metadata": {
    "collapsed": false,
    "pycharm": {
     "name": "#%%\n",
     "is_executing": false
    }
   }
  },
  {
   "cell_type": "markdown",
   "source": [
    "Most of the variables are much less skewed and normal. The plots here also make sense since most fees/prices tend to be log-normal distributed. We can rationalize it by thinking that most customers can interested in cheap listings while high-end listings mostly cater to a small portion fo the market. Similar rationale applies for the other variables that are right-skewed.\n",
    "For some variables such as beds, a second log transformation might help. Here we would just keep our model simple in performing just one log transformation."
   ],
   "metadata": {
    "collapsed": false
   }
  },
  {
   "cell_type": "markdown",
   "source": [
    "### Feature Engineering"
   ],
   "metadata": {
    "collapsed": false
   }
  },
  {
   "cell_type": "markdown",
   "source": [
    "Some variables could be combined to form more meaningful variables. \n",
    "One common example in housing datasets is rooms per accommodates. "
   ],
   "metadata": {
    "collapsed": false
   }
  },
  {
   "cell_type": "code",
   "execution_count": 313,
   "outputs": [],
   "source": [
    "base_col = \"accommodates\"\n",
    "\n",
    "for col in [\"log_bedrooms\", \"log_bathrooms\"]:\n",
    "    new_col_name = f\"{col}_per_{base_col}\"\n",
    "    df[new_col_name] = df[col] / df[base_col]\n",
    "    num_attribs.append(new_col_name)"
   ],
   "metadata": {
    "collapsed": false,
    "pycharm": {
     "name": "#%%\n",
     "is_executing": false
    }
   }
  },
  {
   "cell_type": "markdown",
   "source": [
    "### Feature Elimination"
   ],
   "metadata": {
    "collapsed": false
   }
  },
  {
   "cell_type": "markdown",
   "source": [
    "We can also examine the correlation heatmap, which would serve as a guidance for further data elimination."
   ],
   "metadata": {
    "collapsed": false
   }
  },
  {
   "cell_type": "code",
   "execution_count": 314,
   "outputs": [],
   "source": [
    "corr_df = df.corr().dropna(how='all',axis=0).dropna(how='all',axis=1)\n",
    "ax = helpers.corr_heatmap(corr_df, figsize=(30, 30)) #drop na since some variables such as url are not suited for calculating correlations\n",
    "ax.figure.savefig(\"../imgs/correlation_heatmap_before.png\")\n",
    "plt.close()"
   ],
   "metadata": {
    "collapsed": false,
    "pycharm": {
     "name": "#%%\n",
     "is_executing": false
    }
   }
  },
  {
   "cell_type": "markdown",
   "source": [
    "Check the saved correlation heatmap [here](../imgs/correlation_heatmap_before.png).\n",
    "\n",
    "We now proceed to examine the ones that are highly correlated."
   ],
   "metadata": {
    "collapsed": false
   }
  },
  {
   "cell_type": "code",
   "execution_count": 315,
   "outputs": [
    {
     "data": {
      "text/plain": "<matplotlib.axes._subplots.AxesSubplot at 0x2772500d048>"
     },
     "metadata": {},
     "output_type": "execute_result",
     "execution_count": 315
    },
    {
     "data": {
      "text/plain": "<Figure size 432x288 with 2 Axes>",
      "image/png": "[encoded data removed]"
     },
     "metadata": {},
     "output_type": "display_data"
    }
   ],
   "source": [
    "review_col_names = ['review_scores_accuracy', 'review_scores_cleanliness', \\\n",
    "                   'review_scores_checkin', 'review_scores_communication', \\\n",
    "                   'review_scores_location', 'review_scores_value']\n",
    "\n",
    "helpers.corr_heatmap(df[review_col_names].corr())"
   ],
   "metadata": {
    "collapsed": false,
    "pycharm": {
     "name": "#%%\n",
     "is_executing": false
    }
   }
  },
  {
   "cell_type": "markdown",
   "source": [
    "Actually there is not too strong correlations between the different types of reviews, except \"review_scores_location,\" for now let's just use review_scores_rating since we have many variables with the exact locations."
   ],
   "metadata": {
    "collapsed": false
   }
  },
  {
   "cell_type": "code",
   "execution_count": 316,
   "outputs": [
    {
     "data": {
      "text/plain": "                             review_scores_rating  avg_review  \\\nreview_scores_rating                     1.000000    0.813368   \navg_review                               0.813368    1.000000   \nreview_scores_accuracy                   0.683038    0.780069   \nreview_scores_cleanliness                0.660347    0.740820   \nreview_scores_checkin                    0.541946    0.714878   \nreview_scores_communication              0.597463    0.729915   \nreview_scores_location                   0.342277    0.560879   \nreview_scores_value                      0.662979    0.785463   \n\n                             review_scores_accuracy  \\\nreview_scores_rating                       0.683038   \navg_review                                 0.780069   \nreview_scores_accuracy                     1.000000   \nreview_scores_cleanliness                  0.530813   \nreview_scores_checkin                      0.484389   \nreview_scores_communication                0.528306   \nreview_scores_location                     0.288246   \nreview_scores_value                        0.548149   \n\n                             review_scores_cleanliness  review_scores_checkin  \\\nreview_scores_rating                          0.660347               0.541946   \navg_review                                    0.740820               0.714878   \nreview_scores_accuracy                        0.530813               0.484389   \nreview_scores_cleanliness                     1.000000               0.374927   \nreview_scores_checkin                         0.374927               1.000000   \nreview_scores_communication                   0.395964               0.618134   \nreview_scores_location                        0.242589               0.277944   \nreview_scores_value                           0.522499               0.429079   \n\n                             review_scores_communication  \\\nreview_scores_rating                            0.597463   \navg_review                                      0.729915   \nreview_scores_accuracy                          0.528306   \nreview_scores_cleanliness                       0.395964   \nreview_scores_checkin                           0.618134   \nreview_scores_communication                     1.000000   \nreview_scores_location                          0.266880   \nreview_scores_value                             0.457579   \n\n                             review_scores_location  review_scores_value  \nreview_scores_rating                       0.342277             0.662979  \navg_review                                 0.560879             0.785463  \nreview_scores_accuracy                     0.288246             0.548149  \nreview_scores_cleanliness                  0.242589             0.522499  \nreview_scores_checkin                      0.277944             0.429079  \nreview_scores_communication                0.266880             0.457579  \nreview_scores_location                     1.000000             0.360936  \nreview_scores_value                        0.360936             1.000000  ",
      "text/html": "<div>\n<style scoped>\n    .dataframe tbody tr th:only-of-type {\n        vertical-align: middle;\n    }\n\n    .dataframe tbody tr th {\n        vertical-align: top;\n    }\n\n    .dataframe thead th {\n        text-align: right;\n    }\n</style>\n<table border=\"1\" class=\"dataframe\">\n  <thead>\n    <tr style=\"text-align: right;\">\n      <th></th>\n      <th>review_scores_rating</th>\n      <th>avg_review</th>\n      <th>review_scores_accuracy</th>\n      <th>review_scores_cleanliness</th>\n      <th>review_scores_checkin</th>\n      <th>review_scores_communication</th>\n      <th>review_scores_location</th>\n      <th>review_scores_value</th>\n    </tr>\n  </thead>\n  <tbody>\n    <tr>\n      <th>review_scores_rating</th>\n      <td>1.000000</td>\n      <td>0.813368</td>\n      <td>0.683038</td>\n      <td>0.660347</td>\n      <td>0.541946</td>\n      <td>0.597463</td>\n      <td>0.342277</td>\n      <td>0.662979</td>\n    </tr>\n    <tr>\n      <th>avg_review</th>\n      <td>0.813368</td>\n      <td>1.000000</td>\n      <td>0.780069</td>\n      <td>0.740820</td>\n      <td>0.714878</td>\n      <td>0.729915</td>\n      <td>0.560879</td>\n      <td>0.785463</td>\n    </tr>\n    <tr>\n      <th>review_scores_accuracy</th>\n      <td>0.683038</td>\n      <td>0.780069</td>\n      <td>1.000000</td>\n      <td>0.530813</td>\n      <td>0.484389</td>\n      <td>0.528306</td>\n      <td>0.288246</td>\n      <td>0.548149</td>\n    </tr>\n    <tr>\n      <th>review_scores_cleanliness</th>\n      <td>0.660347</td>\n      <td>0.740820</td>\n      <td>0.530813</td>\n      <td>1.000000</td>\n      <td>0.374927</td>\n      <td>0.395964</td>\n      <td>0.242589</td>\n      <td>0.522499</td>\n    </tr>\n    <tr>\n      <th>review_scores_checkin</th>\n      <td>0.541946</td>\n      <td>0.714878</td>\n      <td>0.484389</td>\n      <td>0.374927</td>\n      <td>1.000000</td>\n      <td>0.618134</td>\n      <td>0.277944</td>\n      <td>0.429079</td>\n    </tr>\n    <tr>\n      <th>review_scores_communication</th>\n      <td>0.597463</td>\n      <td>0.729915</td>\n      <td>0.528306</td>\n      <td>0.395964</td>\n      <td>0.618134</td>\n      <td>1.000000</td>\n      <td>0.266880</td>\n      <td>0.457579</td>\n    </tr>\n    <tr>\n      <th>review_scores_location</th>\n      <td>0.342277</td>\n      <td>0.560879</td>\n      <td>0.288246</td>\n      <td>0.242589</td>\n      <td>0.277944</td>\n      <td>0.266880</td>\n      <td>1.000000</td>\n      <td>0.360936</td>\n    </tr>\n    <tr>\n      <th>review_scores_value</th>\n      <td>0.662979</td>\n      <td>0.785463</td>\n      <td>0.548149</td>\n      <td>0.522499</td>\n      <td>0.429079</td>\n      <td>0.457579</td>\n      <td>0.360936</td>\n      <td>1.000000</td>\n    </tr>\n  </tbody>\n</table>\n</div>"
     },
     "metadata": {},
     "output_type": "execute_result",
     "execution_count": 316
    }
   ],
   "source": [
    "df['avg_review'] = df[review_col_names].mean(axis=1)\n",
    "\n",
    "df[['review_scores_rating', \"avg_review\"] + review_col_names].corr()"
   ],
   "metadata": {
    "collapsed": false,
    "pycharm": {
     "name": "#%%\n",
     "is_executing": false
    }
   }
  },
  {
   "cell_type": "code",
   "execution_count": 317,
   "outputs": [],
   "source": [
    "review_col_to_drop = review_col_names + [\"avg_review\"]\n",
    "df, num_attribs = helpers.drop_attribs(df, num_attribs, review_col_to_drop)"
   ],
   "metadata": {
    "collapsed": false,
    "pycharm": {
     "name": "#%%\n",
     "is_executing": false
    }
   }
  },
  {
   "cell_type": "markdown",
   "source": [
    "Delete less useful variables that the correlation heatmap shows as highly correlated."
   ],
   "metadata": {
    "collapsed": false
   }
  },
  {
   "cell_type": "code",
   "execution_count": 318,
   "outputs": [],
   "source": [
    "df, num_attribs = helpers.drop_attribs(df, num_attribs, [\"minimum_nights\", \"maximum_nights\"])"
   ],
   "metadata": {
    "collapsed": false,
    "pycharm": {
     "name": "#%%\n",
     "is_executing": false
    }
   }
  },
  {
   "cell_type": "markdown",
   "source": [
    "First, there are four types of availability data (defined as the number of available days out of the number of days after the underscore). "
   ],
   "metadata": {
    "collapsed": false
   }
  },
  {
   "cell_type": "code",
   "execution_count": 319,
   "outputs": [
    {
     "data": {
      "text/plain": "array([[<matplotlib.axes._subplots.AxesSubplot object at 0x0000027725124E10>,\n        <matplotlib.axes._subplots.AxesSubplot object at 0x000002772515E198>],\n       [<matplotlib.axes._subplots.AxesSubplot object at 0x0000027725182710>,\n        <matplotlib.axes._subplots.AxesSubplot object at 0x00000277251A8C88>]],\n      dtype=object)"
     },
     "metadata": {},
     "output_type": "execute_result",
     "execution_count": 319
    },
    {
     "data": {
      "text/plain": "<Figure size 1440x1080 with 4 Axes>",
      "image/png": "[encoded data removed]"
     },
     "metadata": {},
     "output_type": "display_data"
    }
   ],
   "source": [
    "all_availability_cols = ['availability_30', 'availability_60', 'availability_90', 'availability_365']\n",
    "df[all_availability_cols].hist(bins=50, figsize=(20,15))"
   ],
   "metadata": {
    "collapsed": false,
    "pycharm": {
     "name": "#%%\n",
     "is_executing": false
    }
   }
  },
  {
   "cell_type": "markdown",
   "source": [
    "The distribution of availability is extremely right-skewed and has very wide (uniform after 0) spread.\n",
    "It makes sense since we would expect that hosts would strive to keep their listings occupied, resulting in low availability.\n",
    "Thus, we could bin the variable into some intervals.\n",
    "\n",
    "Let's use the availability for 365 days to eliminate short-term fluctuations that we don't care."
   ],
   "metadata": {
    "collapsed": false
   }
  },
  {
   "cell_type": "code",
   "execution_count": 320,
   "outputs": [],
   "source": [
    "all_availability_cols.remove('availability_365')\n",
    "df.drop(all_availability_cols, axis=1, inplace=True)"
   ],
   "metadata": {
    "collapsed": false,
    "pycharm": {
     "name": "#%%\n",
     "is_executing": false
    }
   }
  },
  {
   "cell_type": "markdown",
   "source": [
    "Now we would only keep the variables that we have hypothesized to be of great importance."
   ],
   "metadata": {
    "collapsed": false
   }
  },
  {
   "cell_type": "code",
   "execution_count": 321,
   "outputs": [
    {
     "data": {
      "text/plain": "(20676, 35)"
     },
     "metadata": {},
     "output_type": "execute_result",
     "execution_count": 321
    }
   ],
   "source": [
    "df = df[num_attribs + cat_attribs]\n",
    "df.shape"
   ],
   "metadata": {
    "collapsed": false,
    "pycharm": {
     "name": "#%%\n",
     "is_executing": false
    }
   }
  },
  {
   "cell_type": "markdown",
   "source": [
    "We have a bit less variables to work with.\n",
    "Let's inspect the pairplot again."
   ],
   "metadata": {
    "collapsed": false
   }
  },
  {
   "cell_type": "code",
   "execution_count": 322,
   "outputs": [],
   "source": [
    "if save_imgs:\n",
    "    sns.pairplot(df).savefig(\"../imgs/transformed_pairplot.png\")\n",
    "    plt.close() # too many variables for inline plots"
   ],
   "metadata": {
    "collapsed": false,
    "pycharm": {
     "name": "#%%\n",
     "is_executing": false
    }
   }
  },
  {
   "cell_type": "markdown",
   "source": [
    "Check the saved transformed pairplot [here](../imgs/transformed_pairplot.png).\n",
    "The pairplot looks great as log_price has high correlations with the other variables."
   ],
   "metadata": {
    "collapsed": false
   }
  },
  {
   "cell_type": "markdown",
   "source": [
    "## Categorical Variables"
   ],
   "metadata": {
    "collapsed": false
   }
  },
  {
   "cell_type": "code",
   "execution_count": 323,
   "outputs": [
    {
     "name": "stdout",
     "text": [
      "host_neighbourhood has 81 unique values\n",
      "neighbourhood_cleansed has 22 unique values\n",
      "street has 103 unique values\n",
      "city has 34 unique values\n",
      "state has 52 unique values\n",
      "zipcode has 7207 unique values\n",
      "smart_location has 35 unique values\n",
      "market has 4 unique values\n"
     ],
     "output_type": "stream"
    }
   ],
   "source": [
    "locations_variables = [\"host_neighbourhood\", \"neighbourhood_cleansed\", \"street\", \"city\", \"state\", \"zipcode\", \"smart_location\", \"market\"]\n",
    "\n",
    "for col in locations_variables:\n",
    "    print(f\"{col} has {df[col].nunique()} unique values\")"
   ],
   "metadata": {
    "collapsed": false,
    "pycharm": {
     "name": "#%%\n",
     "is_executing": false
    }
   }
  },
  {
   "cell_type": "markdown",
   "source": [
    "### Location\n",
    "\n",
    "We see that attributes like host_neighbourhood, city, zipcode, and smart_location all describe locations, \n",
    "but the attribute neighbourhood_cleansed bins the data much better than any of them (it has less categories with more data in each one). We would use neighbourhood_cleansed then.  "
   ],
   "metadata": {
    "collapsed": false
   }
  },
  {
   "cell_type": "code",
   "execution_count": 324,
   "outputs": [],
   "source": [
    "locations_variables.remove(\"neighbourhood_cleansed\")\n",
    "df, cat_attribs = helpers.drop_attribs(df, cat_attribs, locations_variables)"
   ],
   "metadata": {
    "collapsed": false,
    "pycharm": {
     "name": "#%%\n",
     "is_executing": false
    }
   }
  },
  {
   "cell_type": "markdown",
   "source": [
    "### Host verification \n",
    "\n",
    "Some customers would prefer verified hosts, which could result in product differentiation (different house prices)."
   ],
   "metadata": {
    "collapsed": false
   }
  },
  {
   "cell_type": "code",
   "execution_count": 325,
   "outputs": [
    {
     "data": {
      "text/plain": "{'email',\n 'facebook',\n 'google',\n 'government_id',\n 'identity_manual',\n 'jumio',\n 'kba',\n 'manual_offline',\n 'manual_online',\n 'offline_government_id',\n 'phone',\n 'reviews',\n 'selfie',\n 'sent_id',\n 'sesame',\n 'sesame_offline',\n 'weibo',\n 'work_email',\n 'zhima_selfie'}"
     },
     "metadata": {},
     "output_type": "execute_result",
     "execution_count": 325
    }
   ],
   "source": [
    "all_verification_methods = [item for item in df[\"host_verifications\"].tolist() if item]\n",
    "all_verification_methods = set(reduce(lambda x, y: x+y, all_verification_methods))\n",
    "all_verification_methods"
   ],
   "metadata": {
    "collapsed": false,
    "pycharm": {
     "name": "#%%\n",
     "is_executing": false
    }
   }
  },
  {
   "cell_type": "markdown",
   "source": [
    "### Feature Engineering\n",
    "It appears that email, facebook, government_id, and phone would be good identification methods, so we construct a boolean feature that would be true if a host has any of those "
   ],
   "metadata": {
    "collapsed": false
   }
  },
  {
   "cell_type": "code",
   "execution_count": 326,
   "outputs": [],
   "source": [
    "good_verfication_methods = [\"email\", \"facebook\", \"government_id\", \"phone\"]\n",
    "\n",
    "def is_nicely_verified(host_verifications):\n",
    "    if not host_verifications:\n",
    "        return \"f\"\n",
    "    \n",
    "    for ele in good_verfication_methods:\n",
    "        if ele in host_verifications:\n",
    "            return \"t\"\n",
    "    \n",
    "    return \"f\""
   ],
   "metadata": {
    "collapsed": false,
    "pycharm": {
     "name": "#%%\n",
     "is_executing": false
    }
   }
  },
  {
   "cell_type": "code",
   "execution_count": 327,
   "outputs": [
    {
     "data": {
      "text/plain": "t    20456\nf      220\nName: nicely_verified, dtype: int64"
     },
     "metadata": {},
     "output_type": "execute_result",
     "execution_count": 327
    }
   ],
   "source": [
    "df[\"nicely_verified\"] = df[\"host_verifications\"].apply(lambda x: is_nicely_verified(x))\n",
    "df[\"nicely_verified\"].value_counts()"
   ],
   "metadata": {
    "collapsed": false,
    "pycharm": {
     "name": "#%%\n",
     "is_executing": false
    }
   }
  },
  {
   "cell_type": "markdown",
   "source": [
    "Only about 2% of the hosts are not \"nicely verified\", but we would still use it as a categorical variable\n",
    "because the low percentage is true instead of missing data (referring back to the missing data examination code above). "
   ],
   "metadata": {
    "collapsed": false
   }
  },
  {
   "cell_type": "code",
   "execution_count": 328,
   "outputs": [],
   "source": [
    "cat_attribs.append(\"nicely_verified\")\n",
    "df, cat_attribs = helpers.drop_attribs(df, cat_attribs, [\"host_verifications\"])"
   ],
   "metadata": {
    "collapsed": false,
    "pycharm": {
     "name": "#%%\n",
     "is_executing": false
    }
   }
  },
  {
   "cell_type": "markdown",
   "source": [
    "Inspect the correlation heatmap again."
   ],
   "metadata": {
    "collapsed": false
   }
  },
  {
   "cell_type": "code",
   "execution_count": 329,
   "outputs": [],
   "source": [
    "corr_df = df.corr().dropna(how='all',axis=0).dropna(how='all',axis=1)\n",
    "ax = helpers.corr_heatmap(corr_df, figsize=(23, 23)) #drop na since some variables such as url are not suited for calculating correlations\n",
    "ax.figure.savefig(\"../imgs/correlation_heatmap_after.png\")\n",
    "plt.close()"
   ],
   "metadata": {
    "collapsed": false,
    "pycharm": {
     "name": "#%%\n",
     "is_executing": false
    }
   }
  },
  {
   "cell_type": "markdown",
   "source": [
    "Check the saved transformed correlation_heatmap [here](../imgs/correlation_heatmap_after.png).\n",
    "\n",
    "It's interesting that \"accommodates\" is relatively positvely correlated with most variables while \"log_bedroom_per_accommdates\" and \"log_bathroom_per_accommdates\" are relatively negatively correlated with most variables. It is kind of hard to figure out explainations so I would leave it to you.\n",
    "\n",
    "Otherwise, the plots look quite good for us to move forward."
   ],
   "metadata": {
    "collapsed": false
   }
  },
  {
   "cell_type": "code",
   "execution_count": 330,
   "outputs": [],
   "source": [
    "## Save the cleaned dataframe\n",
    "\n",
    "df.to_pickle(\"../data/df.pkl\")\n",
    "\n",
    "pickle.dump(num_attribs, open('../data/num_attribs.pkl', 'wb'))   \n",
    "pickle.dump(cat_attribs, open('../data/cat_attribs.pkl', 'wb'))"
   ],
   "metadata": {
    "collapsed": false,
    "pycharm": {
     "name": "#%%\n",
     "is_executing": false
    }
   }
  },
  {
   "cell_type": "markdown",
   "source": [
    "# Conclusion\n",
    "\n",
    "Now we conclude the data cleaning and exploration steps. Please move forward to the other scripts ordered in [README.md](../README.md)."
   ],
   "metadata": {
    "collapsed": false
   }
  }
 ],
 "metadata": {
  "kernelspec": {
   "display_name": "Python 3",
   "language": "python",
   "name": "python3"
  },
  "language_info": {
   "codemirror_mode": {
    "name": "ipython",
    "version": 3
   },
   "file_extension": ".py",
   "mimetype": "text/x-python",
   "name": "python",
   "nbconvert_exporter": "python",
   "pygments_lexer": "ipython3",
   "version": "3.6.5"
  },
  "pycharm": {
   "stem_cell": {
    "cell_type": "raw",
    "source": [],
    "metadata": {
     "collapsed": false
    }
   }
  }
 },
 "nbformat": 4,
 "nbformat_minor": 1
}