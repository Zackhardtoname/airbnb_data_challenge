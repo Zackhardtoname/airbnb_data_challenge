{
 "cells": [
  {
   "cell_type": "code",
   "execution_count": 21,
   "metadata": {
    "pycharm": {
     "is_executing": false
    }
   },
   "outputs": [],
   "source": [
    "from data import data_keys\n",
    "\n",
    "import pprint\n",
    "import numpy as np\n",
    "import pandas as pd\n",
    "import seaborn as sns\n",
    "import pickle\n",
    "import operator\n",
    "import warnings\n",
    "import helpers\n",
    "from functools import reduce\n",
    "from ast import literal_eval\n",
    "warnings.filterwarnings('ignore')\n",
    "\n",
    "from IPython.display import display\n",
    "%matplotlib inline\n",
    "import matplotlib.pyplot as plt"
   ]
  },
  {
   "cell_type": "code",
   "execution_count": 22,
   "metadata": {
    "pycharm": {
     "is_executing": false,
     "name": "#%%\n"
    }
   },
   "outputs": [],
   "source": [
    "# runtime parameters\n",
    "\n",
    "save_imgs = False"
   ]
  },
  {
   "cell_type": "markdown",
   "metadata": {
    "pycharm": {
     "name": "#%% md\n"
    }
   },
   "source": [
    "# Introduction\n",
    "\n",
    "In this notebook, I explore the airbnb dataset for its listings in Amsterdam, The Netherlands. \n",
    "I chose this challenge because of its relatively large dataset with about 100 columns of numerical, categorical, geological, image and text data.\n",
    "(Dataset originally from: http://insideairbnb.com/get-the-data.html) Since the dataset has no data keys, so I would try my best to explain them. \n",
    " \n",
    "For this challenge, we would try to predict are prices based on other variables."
   ]
  },
  {
   "cell_type": "markdown",
   "metadata": {
    "pycharm": {
     "name": "#%% md\n"
    }
   },
   "source": [
    "# Hypothesis\n",
    "\n",
    "Our hypothesis is that we could achieve a R-squared value of around .6 through the most useful 20 features or so.\n",
    "Some variables that would probably be of most use \n",
    "are all of the \"primary_num_cols\" in data keys, \"instant_bookable\", \"host_has_profile_pic\", \"host_identity_verified\", \n",
    "\"neighbourhood_cleansed\", \"cancellation_policy\", \"description\", \"neighborhood_overview\", \"transit\", \"house_rules\", \n",
    "pictures of the listings as well as host profile pictures, and in fact, the past availability (although we could not use this one since we mostly only have aggregated availability statistics).\n"
   ]
  },
  {
   "cell_type": "markdown",
   "metadata": {
    "pycharm": {
     "name": "#%% md\n"
    }
   },
   "source": [
    "# Exploratory Data Analysis\n",
    "First we load the dataset and classify the columns into different types and access their useability."
   ]
  },
  {
   "cell_type": "code",
   "execution_count": 23,
   "metadata": {
    "pycharm": {
     "is_executing": false,
     "name": "#%%\n"
    }
   },
   "outputs": [
    {
     "name": "stdout",
     "output_type": "stream",
     "text": [
      "Shape:  (20677, 106)\n"
     ]
    },
    {
     "data": {
      "text/html": [
       "<div>\n",
       "<style scoped>\n",
       "    .dataframe tbody tr th:only-of-type {\n",
       "        vertical-align: middle;\n",
       "    }\n",
       "\n",
       "    .dataframe tbody tr th {\n",
       "        vertical-align: top;\n",
       "    }\n",
       "\n",
       "    .dataframe thead th {\n",
       "        text-align: right;\n",
       "    }\n",
       "</style>\n",
       "<table border=\"1\" class=\"dataframe\">\n",
       "  <thead>\n",
       "    <tr style=\"text-align: right;\">\n",
       "      <th></th>\n",
       "      <th>id</th>\n",
       "      <th>scrape_id</th>\n",
       "      <th>thumbnail_url</th>\n",
       "      <th>medium_url</th>\n",
       "      <th>xl_picture_url</th>\n",
       "      <th>host_id</th>\n",
       "      <th>host_acceptance_rate</th>\n",
       "      <th>host_listings_count</th>\n",
       "      <th>host_total_listings_count</th>\n",
       "      <th>neighbourhood_group_cleansed</th>\n",
       "      <th>...</th>\n",
       "      <th>review_scores_cleanliness</th>\n",
       "      <th>review_scores_checkin</th>\n",
       "      <th>review_scores_communication</th>\n",
       "      <th>review_scores_location</th>\n",
       "      <th>review_scores_value</th>\n",
       "      <th>calculated_host_listings_count</th>\n",
       "      <th>calculated_host_listings_count_entire_homes</th>\n",
       "      <th>calculated_host_listings_count_private_rooms</th>\n",
       "      <th>calculated_host_listings_count_shared_rooms</th>\n",
       "      <th>reviews_per_month</th>\n",
       "    </tr>\n",
       "  </thead>\n",
       "  <tbody>\n",
       "    <tr>\n",
       "      <th>count</th>\n",
       "      <td>2.067700e+04</td>\n",
       "      <td>2.067700e+04</td>\n",
       "      <td>0.0</td>\n",
       "      <td>0.0</td>\n",
       "      <td>0.0</td>\n",
       "      <td>2.067700e+04</td>\n",
       "      <td>0.0</td>\n",
       "      <td>20665.000000</td>\n",
       "      <td>20665.000000</td>\n",
       "      <td>0.0</td>\n",
       "      <td>...</td>\n",
       "      <td>17852.000000</td>\n",
       "      <td>17840.000000</td>\n",
       "      <td>17847.000000</td>\n",
       "      <td>17842.000000</td>\n",
       "      <td>17842.000000</td>\n",
       "      <td>20677.000000</td>\n",
       "      <td>20677.000000</td>\n",
       "      <td>20677.000000</td>\n",
       "      <td>20677.000000</td>\n",
       "      <td>18084.000000</td>\n",
       "    </tr>\n",
       "    <tr>\n",
       "      <th>mean</th>\n",
       "      <td>1.791013e+07</td>\n",
       "      <td>2.019081e+13</td>\n",
       "      <td>NaN</td>\n",
       "      <td>NaN</td>\n",
       "      <td>NaN</td>\n",
       "      <td>5.666981e+07</td>\n",
       "      <td>NaN</td>\n",
       "      <td>7.010888</td>\n",
       "      <td>7.010888</td>\n",
       "      <td>NaN</td>\n",
       "      <td>...</td>\n",
       "      <td>9.469079</td>\n",
       "      <td>9.735762</td>\n",
       "      <td>9.789488</td>\n",
       "      <td>9.476124</td>\n",
       "      <td>9.177054</td>\n",
       "      <td>4.925134</td>\n",
       "      <td>4.492431</td>\n",
       "      <td>0.410988</td>\n",
       "      <td>0.021715</td>\n",
       "      <td>0.987736</td>\n",
       "    </tr>\n",
       "    <tr>\n",
       "      <th>std</th>\n",
       "      <td>1.041987e+07</td>\n",
       "      <td>7.800970e+00</td>\n",
       "      <td>NaN</td>\n",
       "      <td>NaN</td>\n",
       "      <td>NaN</td>\n",
       "      <td>6.812902e+07</td>\n",
       "      <td>NaN</td>\n",
       "      <td>37.729548</td>\n",
       "      <td>37.729548</td>\n",
       "      <td>NaN</td>\n",
       "      <td>...</td>\n",
       "      <td>0.867372</td>\n",
       "      <td>0.654358</td>\n",
       "      <td>0.610074</td>\n",
       "      <td>0.707655</td>\n",
       "      <td>0.808275</td>\n",
       "      <td>22.883678</td>\n",
       "      <td>22.710906</td>\n",
       "      <td>1.082794</td>\n",
       "      <td>0.237805</td>\n",
       "      <td>1.349155</td>\n",
       "    </tr>\n",
       "    <tr>\n",
       "      <th>min</th>\n",
       "      <td>2.818000e+03</td>\n",
       "      <td>2.019081e+13</td>\n",
       "      <td>NaN</td>\n",
       "      <td>NaN</td>\n",
       "      <td>NaN</td>\n",
       "      <td>3.159000e+03</td>\n",
       "      <td>NaN</td>\n",
       "      <td>0.000000</td>\n",
       "      <td>0.000000</td>\n",
       "      <td>NaN</td>\n",
       "      <td>...</td>\n",
       "      <td>2.000000</td>\n",
       "      <td>2.000000</td>\n",
       "      <td>2.000000</td>\n",
       "      <td>2.000000</td>\n",
       "      <td>2.000000</td>\n",
       "      <td>1.000000</td>\n",
       "      <td>0.000000</td>\n",
       "      <td>0.000000</td>\n",
       "      <td>0.000000</td>\n",
       "      <td>0.010000</td>\n",
       "    </tr>\n",
       "    <tr>\n",
       "      <th>25%</th>\n",
       "      <td>9.340207e+06</td>\n",
       "      <td>2.019081e+13</td>\n",
       "      <td>NaN</td>\n",
       "      <td>NaN</td>\n",
       "      <td>NaN</td>\n",
       "      <td>8.795077e+06</td>\n",
       "      <td>NaN</td>\n",
       "      <td>1.000000</td>\n",
       "      <td>1.000000</td>\n",
       "      <td>NaN</td>\n",
       "      <td>...</td>\n",
       "      <td>9.000000</td>\n",
       "      <td>10.000000</td>\n",
       "      <td>10.000000</td>\n",
       "      <td>9.000000</td>\n",
       "      <td>9.000000</td>\n",
       "      <td>1.000000</td>\n",
       "      <td>1.000000</td>\n",
       "      <td>0.000000</td>\n",
       "      <td>0.000000</td>\n",
       "      <td>0.240000</td>\n",
       "    </tr>\n",
       "    <tr>\n",
       "      <th>50%</th>\n",
       "      <td>1.774427e+07</td>\n",
       "      <td>2.019081e+13</td>\n",
       "      <td>NaN</td>\n",
       "      <td>NaN</td>\n",
       "      <td>NaN</td>\n",
       "      <td>2.618942e+07</td>\n",
       "      <td>NaN</td>\n",
       "      <td>1.000000</td>\n",
       "      <td>1.000000</td>\n",
       "      <td>NaN</td>\n",
       "      <td>...</td>\n",
       "      <td>10.000000</td>\n",
       "      <td>10.000000</td>\n",
       "      <td>10.000000</td>\n",
       "      <td>10.000000</td>\n",
       "      <td>9.000000</td>\n",
       "      <td>1.000000</td>\n",
       "      <td>1.000000</td>\n",
       "      <td>0.000000</td>\n",
       "      <td>0.000000</td>\n",
       "      <td>0.540000</td>\n",
       "    </tr>\n",
       "    <tr>\n",
       "      <th>75%</th>\n",
       "      <td>2.601974e+07</td>\n",
       "      <td>2.019081e+13</td>\n",
       "      <td>NaN</td>\n",
       "      <td>NaN</td>\n",
       "      <td>NaN</td>\n",
       "      <td>7.754037e+07</td>\n",
       "      <td>NaN</td>\n",
       "      <td>2.000000</td>\n",
       "      <td>2.000000</td>\n",
       "      <td>NaN</td>\n",
       "      <td>...</td>\n",
       "      <td>10.000000</td>\n",
       "      <td>10.000000</td>\n",
       "      <td>10.000000</td>\n",
       "      <td>10.000000</td>\n",
       "      <td>10.000000</td>\n",
       "      <td>1.000000</td>\n",
       "      <td>1.000000</td>\n",
       "      <td>1.000000</td>\n",
       "      <td>0.000000</td>\n",
       "      <td>1.070000</td>\n",
       "    </tr>\n",
       "    <tr>\n",
       "      <th>max</th>\n",
       "      <td>3.759099e+07</td>\n",
       "      <td>2.019081e+13</td>\n",
       "      <td>NaN</td>\n",
       "      <td>NaN</td>\n",
       "      <td>NaN</td>\n",
       "      <td>2.839422e+08</td>\n",
       "      <td>NaN</td>\n",
       "      <td>980.000000</td>\n",
       "      <td>980.000000</td>\n",
       "      <td>NaN</td>\n",
       "      <td>...</td>\n",
       "      <td>10.000000</td>\n",
       "      <td>10.000000</td>\n",
       "      <td>10.000000</td>\n",
       "      <td>10.000000</td>\n",
       "      <td>10.000000</td>\n",
       "      <td>208.000000</td>\n",
       "      <td>206.000000</td>\n",
       "      <td>15.000000</td>\n",
       "      <td>8.000000</td>\n",
       "      <td>33.670000</td>\n",
       "    </tr>\n",
       "  </tbody>\n",
       "</table>\n",
       "<p>8 rows × 44 columns</p>\n",
       "</div>"
      ],
      "text/plain": [
       "                 id     scrape_id  thumbnail_url  medium_url  xl_picture_url  \\\n",
       "count  2.067700e+04  2.067700e+04            0.0         0.0             0.0   \n",
       "mean   1.791013e+07  2.019081e+13            NaN         NaN             NaN   \n",
       "std    1.041987e+07  7.800970e+00            NaN         NaN             NaN   \n",
       "min    2.818000e+03  2.019081e+13            NaN         NaN             NaN   \n",
       "25%    9.340207e+06  2.019081e+13            NaN         NaN             NaN   \n",
       "50%    1.774427e+07  2.019081e+13            NaN         NaN             NaN   \n",
       "75%    2.601974e+07  2.019081e+13            NaN         NaN             NaN   \n",
       "max    3.759099e+07  2.019081e+13            NaN         NaN             NaN   \n",
       "\n",
       "            host_id  host_acceptance_rate  host_listings_count  \\\n",
       "count  2.067700e+04                   0.0         20665.000000   \n",
       "mean   5.666981e+07                   NaN             7.010888   \n",
       "std    6.812902e+07                   NaN            37.729548   \n",
       "min    3.159000e+03                   NaN             0.000000   \n",
       "25%    8.795077e+06                   NaN             1.000000   \n",
       "50%    2.618942e+07                   NaN             1.000000   \n",
       "75%    7.754037e+07                   NaN             2.000000   \n",
       "max    2.839422e+08                   NaN           980.000000   \n",
       "\n",
       "       host_total_listings_count  neighbourhood_group_cleansed  ...  \\\n",
       "count               20665.000000                           0.0  ...   \n",
       "mean                    7.010888                           NaN  ...   \n",
       "std                    37.729548                           NaN  ...   \n",
       "min                     0.000000                           NaN  ...   \n",
       "25%                     1.000000                           NaN  ...   \n",
       "50%                     1.000000                           NaN  ...   \n",
       "75%                     2.000000                           NaN  ...   \n",
       "max                   980.000000                           NaN  ...   \n",
       "\n",
       "       review_scores_cleanliness  review_scores_checkin  \\\n",
       "count               17852.000000           17840.000000   \n",
       "mean                    9.469079               9.735762   \n",
       "std                     0.867372               0.654358   \n",
       "min                     2.000000               2.000000   \n",
       "25%                     9.000000              10.000000   \n",
       "50%                    10.000000              10.000000   \n",
       "75%                    10.000000              10.000000   \n",
       "max                    10.000000              10.000000   \n",
       "\n",
       "       review_scores_communication  review_scores_location  \\\n",
       "count                 17847.000000            17842.000000   \n",
       "mean                      9.789488                9.476124   \n",
       "std                       0.610074                0.707655   \n",
       "min                       2.000000                2.000000   \n",
       "25%                      10.000000                9.000000   \n",
       "50%                      10.000000               10.000000   \n",
       "75%                      10.000000               10.000000   \n",
       "max                      10.000000               10.000000   \n",
       "\n",
       "       review_scores_value  calculated_host_listings_count  \\\n",
       "count         17842.000000                    20677.000000   \n",
       "mean              9.177054                        4.925134   \n",
       "std               0.808275                       22.883678   \n",
       "min               2.000000                        1.000000   \n",
       "25%               9.000000                        1.000000   \n",
       "50%               9.000000                        1.000000   \n",
       "75%              10.000000                        1.000000   \n",
       "max              10.000000                      208.000000   \n",
       "\n",
       "       calculated_host_listings_count_entire_homes  \\\n",
       "count                                 20677.000000   \n",
       "mean                                      4.492431   \n",
       "std                                      22.710906   \n",
       "min                                       0.000000   \n",
       "25%                                       1.000000   \n",
       "50%                                       1.000000   \n",
       "75%                                       1.000000   \n",
       "max                                     206.000000   \n",
       "\n",
       "       calculated_host_listings_count_private_rooms  \\\n",
       "count                                  20677.000000   \n",
       "mean                                       0.410988   \n",
       "std                                        1.082794   \n",
       "min                                        0.000000   \n",
       "25%                                        0.000000   \n",
       "50%                                        0.000000   \n",
       "75%                                        1.000000   \n",
       "max                                       15.000000   \n",
       "\n",
       "       calculated_host_listings_count_shared_rooms  reviews_per_month  \n",
       "count                                 20677.000000       18084.000000  \n",
       "mean                                      0.021715           0.987736  \n",
       "std                                       0.237805           1.349155  \n",
       "min                                       0.000000           0.010000  \n",
       "25%                                       0.000000           0.240000  \n",
       "50%                                       0.000000           0.540000  \n",
       "75%                                       0.000000           1.070000  \n",
       "max                                       8.000000          33.670000  \n",
       "\n",
       "[8 rows x 44 columns]"
      ]
     },
     "execution_count": 23,
     "metadata": {},
     "output_type": "execute_result"
    }
   ],
   "source": [
    "df = pd.read_csv(\"../data/listings.csv\", converters={\"host_verifications\": literal_eval})\n",
    "print(\"Shape: \", df.shape)\n",
    "df.describe()"
   ]
  },
  {
   "cell_type": "code",
   "execution_count": 24,
   "metadata": {
    "pycharm": {
     "is_executing": false,
     "name": "#%%\n"
    }
   },
   "outputs": [],
   "source": [
    "# upper_limit = np.percentile(df[\"price\"].values, 98) \n",
    "# lower_limit = np.percentile(df[\"price\"].values, 2) # Filter the outliers from the dataframe\n",
    "# df = df[(df[\"price\"] <= upper_limit) & (df[\"price\"] >= lower_limit)]"
   ]
  },
  {
   "cell_type": "markdown",
   "metadata": {
    "pycharm": {
     "name": "#%% md\n"
    }
   },
   "source": [
    "The end result is [our own data keys](../data/data_keys.py). Most classification is a process of examination \n",
    "the type of data, unique values, and readiness of feeding into machine learning training models (level of tidiness).\n",
    " \n",
    "I present some the feature examination process below. \n",
    "First, there are four types of availability data (defined as the number of available days out of the number of days after the underscore). "
   ]
  },
  {
   "cell_type": "code",
   "execution_count": 25,
   "metadata": {
    "pycharm": {
     "is_executing": false,
     "name": "#%%\n"
    }
   },
   "outputs": [
    {
     "data": {
      "text/plain": [
       "array([[<matplotlib.axes._subplots.AxesSubplot object at 0x000002A4A35B8828>,\n",
       "        <matplotlib.axes._subplots.AxesSubplot object at 0x000002A48F56AE48>],\n",
       "       [<matplotlib.axes._subplots.AxesSubplot object at 0x000002A48F5990F0>,\n",
       "        <matplotlib.axes._subplots.AxesSubplot object at 0x000002A48F5C1320>]],\n",
       "      dtype=object)"
      ]
     },
     "execution_count": 25,
     "metadata": {},
     "output_type": "execute_result"
    },
    {
     "data": {
      "image/png": "[encoded data removed]",
      "text/plain": [
       "<Figure size 1440x1080 with 4 Axes>"
      ]
     },
     "metadata": {},
     "output_type": "display_data"
    }
   ],
   "source": [
    "df[['availability_30', 'availability_60', 'availability_90', 'availability_365']].hist(bins=50, figsize=(20,15))"
   ]
  },
  {
   "cell_type": "markdown",
   "metadata": {},
   "source": [
    "The distribution of availability is extremely right-skewed and has very wide (uniform after 0) spread.\n",
    "It makes sense since we would expect that hosts would strive to keep their listings occupied, resulting in low availability.\n",
    "Thus, we could bin the variable into some intervals.\n",
    "\n",
    "Let's use the availability for 365 days to eliminate short-term fluctuations that we don't care."
   ]
  },
  {
   "cell_type": "markdown",
   "metadata": {
    "pycharm": {
     "name": "#%% md\n"
    }
   },
   "source": [
    "## Data cleaning"
   ]
  },
  {
   "cell_type": "markdown",
   "metadata": {
    "pycharm": {
     "name": "#%% md\n"
    }
   },
   "source": [
    "For now we include the dependent variable in our dataset to clean it along with other currency-based variables. "
   ]
  },
  {
   "cell_type": "code",
   "execution_count": 26,
   "metadata": {
    "pycharm": {
     "is_executing": false,
     "name": "#%%\n"
    }
   },
   "outputs": [],
   "source": [
    "num_attribs = data_keys.primary_num_cols + [\"price\"]\n",
    "cat_attribs = data_keys.binary_cols + data_keys.cat_cols"
   ]
  },
  {
   "cell_type": "markdown",
   "metadata": {},
   "source": [
    "We examine the percentage of missing data for each variable."
   ]
  },
  {
   "cell_type": "code",
   "execution_count": 27,
   "metadata": {
    "pycharm": {
     "is_executing": false,
     "name": "#%%\n"
    }
   },
   "outputs": [
    {
     "name": "stdout",
     "output_type": "stream",
     "text": [
      "[('nan percentage for square_feet', 0.9813319146878173),\n",
      " ('nan percentage for host_response_rate', 0.4130676597185278),\n",
      " ('nan percentage for host_response_time', 0.4130676597185278),\n",
      " ('nan percentage for security_deposit', 0.29994680079315184),\n",
      " ('nan percentage for host_neighbourhood', 0.28713062823426994),\n",
      " ('nan percentage for cleaning_fee', 0.17995840789282777),\n",
      " ('nan percentage for review_scores_checkin', 0.1372055907530106),\n",
      " ('nan percentage for review_scores_location', 0.13710886492237753),\n",
      " ('nan percentage for review_scores_value', 0.13710886492237753),\n",
      " ('nan percentage for review_scores_communication', 0.13686705034579486),\n",
      " ('nan percentage for review_scores_accuracy', 0.13672196159984523),\n",
      " ('nan percentage for review_scores_cleanliness', 0.13662523576921218),\n",
      " ('nan percentage for review_scores_rating', 0.13618996953136336),\n",
      " ('nan percentage for zipcode', 0.04284954297045026),\n",
      " ('nan percentage for state', 0.010591478454321226),\n",
      " ('nan percentage for market', 0.0019345166126614112),\n",
      " ('nan percentage for host_is_superhost', 0.0005803549837984234),\n",
      " ('nan percentage for host_has_profile_pic', 0.0005803549837984234),\n",
      " ('nan percentage for host_identity_verified', 0.0005803549837984234),\n",
      " ('nan percentage for host_verifications', 0.0005803549837984234),\n",
      " ('nan percentage for bedrooms', 0.00038690332253228226),\n",
      " ('nan percentage for beds', 0.00038690332253228226),\n",
      " ('nan percentage for bathrooms', 0.0002901774918992117),\n",
      " ('nan percentage for city', 0.00019345166126614113),\n",
      " ('nan percentage for cancellation_policy', 4.836291531653528e-05)]\n"
     ]
    }
   ],
   "source": [
    "nan_ptc_dict = {}\n",
    "for price_col in list(df[num_attribs + cat_attribs]):\n",
    "    count_nan = len(df[price_col]) - df[price_col].count()\n",
    "    if (count_nan):\n",
    "        nan_ptc_dict[f\"nan percentage for {price_col}\"] = count_nan / len(df)\n",
    "\n",
    "sorted_d = sorted(nan_ptc_dict.items(), key=operator.itemgetter(1), reverse=True)\n",
    "pprint.pprint(sorted_d)"
   ]
  },
  {
   "cell_type": "markdown",
   "metadata": {
    "pycharm": {
     "name": "#%% md\n"
    }
   },
   "source": [
    "Most variables are relatively complete. \n",
    "Some other variables such as host response rate has a high level of incompleteness (about 40%), \n",
    "so we would impute these variables for missing records.\n",
    "Since the square_feet variable is missing for over 98% of the data, it barely provides any useful information and renders imputation itself worthless. We would drop it."
   ]
  },
  {
   "cell_type": "code",
   "execution_count": 28,
   "metadata": {
    "pycharm": {
     "is_executing": false,
     "name": "#%%\n"
    }
   },
   "outputs": [],
   "source": [
    "df, num_attribs = helpers.drop_attribs(df, num_attribs, ['square_feet'])"
   ]
  },
  {
   "cell_type": "markdown",
   "metadata": {},
   "source": [
    "## Numerical Variable\n",
    "Then, we properly convert string-based variables to pure numbers."
   ]
  },
  {
   "cell_type": "code",
   "execution_count": 29,
   "metadata": {
    "pycharm": {
     "is_executing": false,
     "name": "#%%\n"
    }
   },
   "outputs": [],
   "source": [
    "df[\"host_response_rate\"] = df[\"host_response_rate\"].apply(lambda x: helpers.percent_to_float(x))\n",
    "\n",
    "for col in [\"price\", \"security_deposit\", \"cleaning_fee\", \"extra_people\"]:\n",
    "    df[col] = df[col].apply(lambda x: helpers.convert_string_to_dollar(str(x)))\n",
    "\n",
    "# Clearly some variables naturally should be positive (non-zero)\n",
    "df = df[(df[\"price\"] > 0) &\n",
    "        (df[\"accommodates\"] > 0)]"
   ]
  },
  {
   "cell_type": "markdown",
   "metadata": {},
   "source": [
    "### Visualizations"
   ]
  },
  {
   "cell_type": "markdown",
   "metadata": {
    "pycharm": {
     "name": "#%% md\n"
    }
   },
   "source": [
    "Due to the large number of variables, I chose to save the extremely large pairplot as a separate file [here](../imgs/pairplot.png).\n",
    "Note: if you want to save the image, please uncomment the line below or the value of the save_imgs at the beginning"
   ]
  },
  {
   "cell_type": "code",
   "execution_count": 30,
   "metadata": {
    "pycharm": {
     "is_executing": false,
     "name": "#%%\n"
    }
   },
   "outputs": [],
   "source": [
    "# uncomment below to save images\n",
    "# save_imgs = True\n",
    "\n",
    "if save_imgs:\n",
    "    sns.pairplot(df[num_attribs]).savefig(\"../imgs/pairplot.png\")\n",
    "    plt.close() # too many variables for inline plots"
   ]
  },
  {
   "cell_type": "code",
   "execution_count": 31,
   "metadata": {},
   "outputs": [],
   "source": [
    "upper_limit = np.percentile(df[\"price\"].values, 98) \n",
    "lower_limit = np.percentile(df[\"price\"].values, 2) # Filter the outliers from the dataframe\n",
    "df = df[(df[\"price\"] <= upper_limit) & (df[\"price\"] >= lower_limit)]"
   ]
  },
  {
   "cell_type": "markdown",
   "metadata": {
    "pycharm": {
     "name": "#%% md\n"
    }
   },
   "source": [
    "### Feature Transformation\n",
    "\n",
    "By examining the pairplot, we can see that many variables are right skewed. \n",
    "\n",
    "Let's try log transformation"
   ]
  },
  {
   "cell_type": "code",
   "execution_count": 32,
   "metadata": {
    "pycharm": {
     "is_executing": false,
     "name": "#%%\n"
    }
   },
   "outputs": [],
   "source": [
    "to_log_transform = [\"price\", \"security_deposit\", \"cleaning_fee\", \"extra_people\",\n",
    "            \"bathrooms\", \"bedrooms\", \"beds\", \"guests_included\",\n",
    "            \"number_of_reviews\"]\n",
    "new_col_names = []\n",
    "\n",
    "for col in to_log_transform:\n",
    "    new_col_name = f\"log_{col}\"\n",
    "    new_col_names.append(new_col_name)\n",
    "    df[new_col_name] = np.log(df[col] + 1)\n",
    "    num_attribs.append(new_col_name)\n",
    "\n",
    "df, num_attribs = helpers.drop_attribs(df, num_attribs, to_log_transform)"
   ]
  },
  {
   "cell_type": "code",
   "execution_count": 33,
   "metadata": {
    "pycharm": {
     "is_executing": false,
     "name": "#%%\n"
    }
   },
   "outputs": [
    {
     "data": {
      "text/plain": [
       "array([[<matplotlib.axes._subplots.AxesSubplot object at 0x000002A4819C3B00>,\n",
       "        <matplotlib.axes._subplots.AxesSubplot object at 0x000002A486B2BA20>,\n",
       "        <matplotlib.axes._subplots.AxesSubplot object at 0x000002A48886A588>],\n",
       "       [<matplotlib.axes._subplots.AxesSubplot object at 0x000002A48A601048>,\n",
       "        <matplotlib.axes._subplots.AxesSubplot object at 0x000002A4819C1898>,\n",
       "        <matplotlib.axes._subplots.AxesSubplot object at 0x000002A4FEE32550>],\n",
       "       [<matplotlib.axes._subplots.AxesSubplot object at 0x000002A4FEE00DA0>,\n",
       "        <matplotlib.axes._subplots.AxesSubplot object at 0x000002A4F6F34860>,\n",
       "        <matplotlib.axes._subplots.AxesSubplot object at 0x000002A4F6F348D0>]],\n",
       "      dtype=object)"
      ]
     },
     "execution_count": 33,
     "metadata": {},
     "output_type": "execute_result"
    },
    {
     "data": {
      "image/png": "[encoded data removed]",
      "text/plain": [
       "<Figure size 1440x1080 with 9 Axes>"
      ]
     },
     "metadata": {},
     "output_type": "display_data"
    }
   ],
   "source": [
    "## check the transformed variables\n",
    "\n",
    "df[new_col_names].hist(bins=50, figsize=(20,15))\n"
   ]
  },
  {
   "cell_type": "markdown",
   "metadata": {
    "pycharm": {
     "name": "#%% md\n"
    }
   },
   "source": [
    "Most of the variables are much less skewed and normal. The plots here also make sense since most fees/prices tend to be log-normal distributed. We can rationalize it by thinking that most customers can interested in cheap listings while high-end listings mostly cater to a small portion fo the market. Similar rationale applies for the other variables that are right-skewed.\n",
    "For some variables such as beds, a second log transformation might help. Here we would just keep our model simple in performing just one log transformation."
   ]
  },
  {
   "cell_type": "markdown",
   "metadata": {},
   "source": [
    "### Feature Engineering"
   ]
  },
  {
   "cell_type": "markdown",
   "metadata": {
    "pycharm": {
     "name": "#%% md\n"
    }
   },
   "source": [
    "Some variables could be combined to form more meaningful variables. \n",
    "One common example in housing datasets is rooms per accommodates. "
   ]
  },
  {
   "cell_type": "code",
   "execution_count": 34,
   "metadata": {
    "pycharm": {
     "is_executing": false,
     "name": "#%%\n"
    }
   },
   "outputs": [],
   "source": [
    "base_col = \"accommodates\"\n",
    "\n",
    "for col in [\"log_bedrooms\", \"log_bathrooms\"]:\n",
    "    new_col_name = f\"{col}_per_{base_col}\"\n",
    "    df[new_col_name] = df[col] / df[base_col]\n",
    "    num_attribs.append(new_col_name)"
   ]
  },
  {
   "cell_type": "markdown",
   "metadata": {
    "pycharm": {
     "name": "#%% md\n"
    }
   },
   "source": [
    "### Variables Elimination"
   ]
  },
  {
   "cell_type": "markdown",
   "metadata": {},
   "source": [
    "We can also examine the correlation heatmap, which would serve as a guidance for further data elimination."
   ]
  },
  {
   "cell_type": "code",
   "execution_count": 35,
   "metadata": {
    "pycharm": {
     "is_executing": false,
     "name": "#%%\n"
    }
   },
   "outputs": [
    {
     "data": {
      "text/plain": [
       "<matplotlib.axes._subplots.AxesSubplot at 0x2a4826c9cc0>"
      ]
     },
     "execution_count": 35,
     "metadata": {},
     "output_type": "execute_result"
    },
    {
     "data": {
      "image/png": "[encoded data removed]",
      "text/plain": [
       "<Figure size 432x288 with 2 Axes>"
      ]
     },
     "metadata": {},
     "output_type": "display_data"
    }
   ],
   "source": [
    "helpers.corr_heatmap(df.corr())"
   ]
  },
  {
   "cell_type": "markdown",
   "metadata": {},
   "source": [
    "Actually there is not too strong correlations between the different types of reviews, for now let's just use review_scores_rating."
   ]
  },
  {
   "cell_type": "code",
   "execution_count": 36,
   "metadata": {
    "pycharm": {
     "is_executing": false,
     "name": "#%%\n"
    }
   },
   "outputs": [
    {
     "data": {
      "text/html": [
       "<div>\n",
       "<style scoped>\n",
       "    .dataframe tbody tr th:only-of-type {\n",
       "        vertical-align: middle;\n",
       "    }\n",
       "\n",
       "    .dataframe tbody tr th {\n",
       "        vertical-align: top;\n",
       "    }\n",
       "\n",
       "    .dataframe thead th {\n",
       "        text-align: right;\n",
       "    }\n",
       "</style>\n",
       "<table border=\"1\" class=\"dataframe\">\n",
       "  <thead>\n",
       "    <tr style=\"text-align: right;\">\n",
       "      <th></th>\n",
       "      <th>review_scores_rating</th>\n",
       "      <th>avg_review</th>\n",
       "      <th>review_scores_accuracy</th>\n",
       "      <th>review_scores_cleanliness</th>\n",
       "      <th>review_scores_checkin</th>\n",
       "      <th>review_scores_communication</th>\n",
       "      <th>review_scores_location</th>\n",
       "      <th>review_scores_value</th>\n",
       "    </tr>\n",
       "  </thead>\n",
       "  <tbody>\n",
       "    <tr>\n",
       "      <th>review_scores_rating</th>\n",
       "      <td>1.000000</td>\n",
       "      <td>0.812291</td>\n",
       "      <td>0.681027</td>\n",
       "      <td>0.658638</td>\n",
       "      <td>0.542155</td>\n",
       "      <td>0.593312</td>\n",
       "      <td>0.337671</td>\n",
       "      <td>0.659827</td>\n",
       "    </tr>\n",
       "    <tr>\n",
       "      <th>avg_review</th>\n",
       "      <td>0.812291</td>\n",
       "      <td>1.000000</td>\n",
       "      <td>0.775744</td>\n",
       "      <td>0.739048</td>\n",
       "      <td>0.714514</td>\n",
       "      <td>0.726705</td>\n",
       "      <td>0.559393</td>\n",
       "      <td>0.783126</td>\n",
       "    </tr>\n",
       "    <tr>\n",
       "      <th>review_scores_accuracy</th>\n",
       "      <td>0.681027</td>\n",
       "      <td>0.775744</td>\n",
       "      <td>1.000000</td>\n",
       "      <td>0.526434</td>\n",
       "      <td>0.479325</td>\n",
       "      <td>0.522242</td>\n",
       "      <td>0.283828</td>\n",
       "      <td>0.541713</td>\n",
       "    </tr>\n",
       "    <tr>\n",
       "      <th>review_scores_cleanliness</th>\n",
       "      <td>0.658638</td>\n",
       "      <td>0.739048</td>\n",
       "      <td>0.526434</td>\n",
       "      <td>1.000000</td>\n",
       "      <td>0.374982</td>\n",
       "      <td>0.389733</td>\n",
       "      <td>0.239575</td>\n",
       "      <td>0.518036</td>\n",
       "    </tr>\n",
       "    <tr>\n",
       "      <th>review_scores_checkin</th>\n",
       "      <td>0.542155</td>\n",
       "      <td>0.714514</td>\n",
       "      <td>0.479325</td>\n",
       "      <td>0.374982</td>\n",
       "      <td>1.000000</td>\n",
       "      <td>0.619418</td>\n",
       "      <td>0.272990</td>\n",
       "      <td>0.425178</td>\n",
       "    </tr>\n",
       "    <tr>\n",
       "      <th>review_scores_communication</th>\n",
       "      <td>0.593312</td>\n",
       "      <td>0.726705</td>\n",
       "      <td>0.522242</td>\n",
       "      <td>0.389733</td>\n",
       "      <td>0.619418</td>\n",
       "      <td>1.000000</td>\n",
       "      <td>0.264184</td>\n",
       "      <td>0.449063</td>\n",
       "    </tr>\n",
       "    <tr>\n",
       "      <th>review_scores_location</th>\n",
       "      <td>0.337671</td>\n",
       "      <td>0.559393</td>\n",
       "      <td>0.283828</td>\n",
       "      <td>0.239575</td>\n",
       "      <td>0.272990</td>\n",
       "      <td>0.264184</td>\n",
       "      <td>1.000000</td>\n",
       "      <td>0.361723</td>\n",
       "    </tr>\n",
       "    <tr>\n",
       "      <th>review_scores_value</th>\n",
       "      <td>0.659827</td>\n",
       "      <td>0.783126</td>\n",
       "      <td>0.541713</td>\n",
       "      <td>0.518036</td>\n",
       "      <td>0.425178</td>\n",
       "      <td>0.449063</td>\n",
       "      <td>0.361723</td>\n",
       "      <td>1.000000</td>\n",
       "    </tr>\n",
       "  </tbody>\n",
       "</table>\n",
       "</div>"
      ],
      "text/plain": [
       "                             review_scores_rating  avg_review  \\\n",
       "review_scores_rating                     1.000000    0.812291   \n",
       "avg_review                               0.812291    1.000000   \n",
       "review_scores_accuracy                   0.681027    0.775744   \n",
       "review_scores_cleanliness                0.658638    0.739048   \n",
       "review_scores_checkin                    0.542155    0.714514   \n",
       "review_scores_communication              0.593312    0.726705   \n",
       "review_scores_location                   0.337671    0.559393   \n",
       "review_scores_value                      0.659827    0.783126   \n",
       "\n",
       "                             review_scores_accuracy  \\\n",
       "review_scores_rating                       0.681027   \n",
       "avg_review                                 0.775744   \n",
       "review_scores_accuracy                     1.000000   \n",
       "review_scores_cleanliness                  0.526434   \n",
       "review_scores_checkin                      0.479325   \n",
       "review_scores_communication                0.522242   \n",
       "review_scores_location                     0.283828   \n",
       "review_scores_value                        0.541713   \n",
       "\n",
       "                             review_scores_cleanliness  review_scores_checkin  \\\n",
       "review_scores_rating                          0.658638               0.542155   \n",
       "avg_review                                    0.739048               0.714514   \n",
       "review_scores_accuracy                        0.526434               0.479325   \n",
       "review_scores_cleanliness                     1.000000               0.374982   \n",
       "review_scores_checkin                         0.374982               1.000000   \n",
       "review_scores_communication                   0.389733               0.619418   \n",
       "review_scores_location                        0.239575               0.272990   \n",
       "review_scores_value                           0.518036               0.425178   \n",
       "\n",
       "                             review_scores_communication  \\\n",
       "review_scores_rating                            0.593312   \n",
       "avg_review                                      0.726705   \n",
       "review_scores_accuracy                          0.522242   \n",
       "review_scores_cleanliness                       0.389733   \n",
       "review_scores_checkin                           0.619418   \n",
       "review_scores_communication                     1.000000   \n",
       "review_scores_location                          0.264184   \n",
       "review_scores_value                             0.449063   \n",
       "\n",
       "                             review_scores_location  review_scores_value  \n",
       "review_scores_rating                       0.337671             0.659827  \n",
       "avg_review                                 0.559393             0.783126  \n",
       "review_scores_accuracy                     0.283828             0.541713  \n",
       "review_scores_cleanliness                  0.239575             0.518036  \n",
       "review_scores_checkin                      0.272990             0.425178  \n",
       "review_scores_communication                0.264184             0.449063  \n",
       "review_scores_location                     1.000000             0.361723  \n",
       "review_scores_value                        0.361723             1.000000  "
      ]
     },
     "execution_count": 36,
     "metadata": {},
     "output_type": "execute_result"
    }
   ],
   "source": [
    "review_col_names = ['review_scores_accuracy', 'review_scores_cleanliness', \\\n",
    "                   'review_scores_checkin', 'review_scores_communication', \\\n",
    "                   'review_scores_location', 'review_scores_value']\n",
    "        \n",
    "df['avg_review'] = df[review_col_names].mean(axis=1)\n",
    "\n",
    "df[['review_scores_rating', \"avg_review\"] + review_col_names].corr()"
   ]
  },
  {
   "cell_type": "code",
   "execution_count": 37,
   "metadata": {
    "pycharm": {
     "is_executing": false,
     "name": "#%%\n"
    }
   },
   "outputs": [],
   "source": [
    "review_col_to_drop = review_col_names + [\"avg_review\"]\n",
    "df, num_attribs = helpers.drop_attribs(df, num_attribs, review_col_to_drop)"
   ]
  },
  {
   "cell_type": "markdown",
   "metadata": {},
   "source": [
    "Delete less useful variables that the correlation heatmap shows as highly correlated."
   ]
  },
  {
   "cell_type": "code",
   "execution_count": 38,
   "metadata": {
    "pycharm": {
     "is_executing": false,
     "name": "#%%\n"
    }
   },
   "outputs": [],
   "source": [
    "df, num_attribs = helpers.drop_attribs(df, num_attribs, [\"minimum_nights\", \"maximum_nights\"])"
   ]
  },
  {
   "cell_type": "markdown",
   "metadata": {
    "pycharm": {
     "name": "#%% md\n"
    }
   },
   "source": [
    "Inspect the pairplot and heatmap again."
   ]
  },
  {
   "cell_type": "code",
   "execution_count": 39,
   "metadata": {
    "pycharm": {
     "is_executing": false,
     "name": "#%%\n"
    }
   },
   "outputs": [
    {
     "data": {
      "text/plain": [
       "<matplotlib.axes._subplots.AxesSubplot at 0x2a4fe3c62e8>"
      ]
     },
     "execution_count": 39,
     "metadata": {},
     "output_type": "execute_result"
    },
    {
     "data": {
      "image/png": "[encoded data removed]",
      "text/plain": [
       "<Figure size 432x288 with 2 Axes>"
      ]
     },
     "metadata": {},
     "output_type": "display_data"
    }
   ],
   "source": [
    "if save_imgs:\n",
    "    sns.pairplot(df).savefig(\"../imgs/transformed_pairplot.png\")\n",
    "    plt.close() # too many variables for inline plots\n",
    "    \n",
    "helpers.corr_heatmap(df.corr())"
   ]
  },
  {
   "cell_type": "markdown",
   "metadata": {
    "pycharm": {
     "name": "#%% md\n"
    }
   },
   "source": [
    "The new plots much better as log_price has higher correlations with the other variables."
   ]
  },
  {
   "cell_type": "markdown",
   "metadata": {
    "pycharm": {
     "name": "#%% md\n"
    }
   },
   "source": [
    "## Categorical Variables"
   ]
  },
  {
   "cell_type": "code",
   "execution_count": 40,
   "metadata": {
    "pycharm": {
     "is_executing": false,
     "name": "#%%\n"
    }
   },
   "outputs": [
    {
     "name": "stdout",
     "output_type": "stream",
     "text": [
      "host_neighbourhood has 79 unique values\n",
      "neighbourhood_cleansed has 22 unique values\n",
      "street has 98 unique values\n",
      "city has 32 unique values\n",
      "state has 51 unique values\n",
      "zipcode has 7031 unique values\n",
      "smart_location has 33 unique values\n",
      "market has 4 unique values\n"
     ]
    }
   ],
   "source": [
    "locations_variables = [\"host_neighbourhood\", \"neighbourhood_cleansed\", \"street\", \"city\", \"state\", \"zipcode\", \"smart_location\", \"market\"]\n",
    "\n",
    "for col in locations_variables:\n",
    "    print(f\"{col} has {df[col].nunique()} unique values\")"
   ]
  },
  {
   "cell_type": "markdown",
   "metadata": {
    "pycharm": {
     "name": "#%% md\n"
    }
   },
   "source": [
    "### Location\n",
    "\n",
    "We see that attributes like host_neighbourhood, city, zipcode, and smart_location all describe locations, \n",
    "but the attribute neighbourhood_cleansed bins the data much better than any of them (it has less categories with more data in each one). We would use neighbourhood_cleansed then.  "
   ]
  },
  {
   "cell_type": "code",
   "execution_count": 41,
   "metadata": {
    "pycharm": {
     "is_executing": false,
     "name": "#%%\n"
    }
   },
   "outputs": [],
   "source": [
    "locations_variables.remove(\"neighbourhood_cleansed\")\n",
    "df, cat_attribs = helpers.drop_attribs(df, cat_attribs, locations_variables)"
   ]
  },
  {
   "cell_type": "markdown",
   "metadata": {
    "pycharm": {
     "name": "#%% md\n"
    }
   },
   "source": [
    "### Host verification \n",
    "\n",
    "Some customers would prefer verified hosts, which could result in product differentiation (different house prices)."
   ]
  },
  {
   "cell_type": "code",
   "execution_count": 42,
   "metadata": {
    "pycharm": {
     "is_executing": false,
     "name": "#%%\n"
    }
   },
   "outputs": [
    {
     "data": {
      "text/plain": [
       "{'email',\n",
       " 'facebook',\n",
       " 'google',\n",
       " 'government_id',\n",
       " 'identity_manual',\n",
       " 'jumio',\n",
       " 'kba',\n",
       " 'manual_offline',\n",
       " 'manual_online',\n",
       " 'offline_government_id',\n",
       " 'phone',\n",
       " 'reviews',\n",
       " 'selfie',\n",
       " 'sent_id',\n",
       " 'sesame',\n",
       " 'sesame_offline',\n",
       " 'weibo',\n",
       " 'work_email',\n",
       " 'zhima_selfie'}"
      ]
     },
     "execution_count": 42,
     "metadata": {},
     "output_type": "execute_result"
    }
   ],
   "source": [
    "all_verification_methods = [item for item in df[\"host_verifications\"].tolist() if item]\n",
    "all_verification_methods = set(reduce(lambda x, y: x+y, all_verification_methods))\n",
    "all_verification_methods"
   ]
  },
  {
   "cell_type": "markdown",
   "metadata": {
    "pycharm": {
     "name": "#%% md\n"
    }
   },
   "source": [
    "### Feature Engineering\n",
    "It appears that email, facebook, government_id, and phone would be good identification methods, so we construct a boolean feature that would be true if a host has any of those "
   ]
  },
  {
   "cell_type": "code",
   "execution_count": 43,
   "metadata": {
    "pycharm": {
     "is_executing": false,
     "name": "#%%\n"
    }
   },
   "outputs": [],
   "source": [
    "good_verfication_methods = [\"email\", \"facebook\", \"government_id\", \"phone\"]\n",
    "\n",
    "def is_nicely_verified(host_verifications):\n",
    "    if not host_verifications:\n",
    "        return \"f\"\n",
    "    \n",
    "    for ele in good_verfication_methods:\n",
    "        if ele in host_verifications:\n",
    "            return \"t\"\n",
    "    \n",
    "    return \"f\""
   ]
  },
  {
   "cell_type": "code",
   "execution_count": 44,
   "metadata": {
    "pycharm": {
     "is_executing": false,
     "name": "#%%\n"
    }
   },
   "outputs": [
    {
     "data": {
      "text/plain": [
       "t    19683\n",
       "f      219\n",
       "Name: nicely_verified, dtype: int64"
      ]
     },
     "execution_count": 44,
     "metadata": {},
     "output_type": "execute_result"
    }
   ],
   "source": [
    "df[\"nicely_verified\"] = df[\"host_verifications\"].apply(lambda x: is_nicely_verified(x))\n",
    "df[\"nicely_verified\"].value_counts()"
   ]
  },
  {
   "cell_type": "markdown",
   "metadata": {
    "pycharm": {
     "name": "#%% md\n"
    }
   },
   "source": [
    "Only about 2% of the hosts are not \"nicely verified\", but we would still use it as a categorical variable\n",
    "because the low percentage is true instead of missing data (referring back to the missing data examination code above). "
   ]
  },
  {
   "cell_type": "code",
   "execution_count": 45,
   "metadata": {
    "pycharm": {
     "is_executing": false,
     "name": "#%%\n"
    }
   },
   "outputs": [],
   "source": [
    "cat_attribs.append(\"nicely_verified\")\n",
    "df, cat_attribs = helpers.drop_attribs(df, cat_attribs, [\"host_verifications\"])"
   ]
  },
  {
   "cell_type": "code",
   "execution_count": 46,
   "metadata": {
    "pycharm": {
     "is_executing": false,
     "name": "#%%\n"
    }
   },
   "outputs": [],
   "source": [
    "## Save the cleaned dataframe\n",
    "\n",
    "df.to_pickle(\"../data/df.pkl\")\n",
    "\n",
    "pickle.dump(num_attribs, open('../data/num_attribs.pkl', 'wb'))   \n",
    "pickle.dump(cat_attribs, open('../data/cat_attribs.pkl', 'wb'))"
   ]
  },
  {
   "cell_type": "markdown",
   "metadata": {
    "pycharm": {
     "name": "#%% md\n"
    }
   },
   "source": [
    "# Conclusion\n",
    "\n",
    "Now we conclude the data cleaning and exploration steps."
   ]
  },
  {
   "cell_type": "markdown",
   "metadata": {
    "pycharm": {
     "is_executing": true,
     "name": "#%% md\n"
    }
   },
   "source": [
    "# Future Improvement\n",
    "* use auto-transformers (https://datamadness.github.io/Skewness_Auto_Transform)\n"
   ]
  }
 ],
 "metadata": {
  "kernelspec": {
   "display_name": "Python 3",
   "language": "python",
   "name": "python3"
  },
  "language_info": {
   "codemirror_mode": {
    "name": "ipython",
    "version": 3
   },
   "file_extension": ".py",
   "mimetype": "text/x-python",
   "name": "python",
   "nbconvert_exporter": "python",
   "pygments_lexer": "ipython3",
   "version": "3.6.5"
  },
  "pycharm": {
   "stem_cell": {
    "cell_type": "raw",
    "metadata": {
     "collapsed": false
    },
    "source": []
   }
  }
 },
 "nbformat": 4,
 "nbformat_minor": 1
}
